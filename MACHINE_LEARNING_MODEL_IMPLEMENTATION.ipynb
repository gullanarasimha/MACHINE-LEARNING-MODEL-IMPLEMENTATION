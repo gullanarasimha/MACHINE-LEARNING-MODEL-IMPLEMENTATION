{
  "nbformat": 4,
  "nbformat_minor": 0,
  "metadata": {
    "colab": {
      "provenance": []
    },
    "kernelspec": {
      "name": "python3",
      "display_name": "Python 3"
    },
    "language_info": {
      "name": "python"
    }
  },
  "cells": [
    {
      "cell_type": "code",
      "execution_count": null,
      "metadata": {
        "id": "N-izdFbkeCjG"
      },
      "outputs": [],
      "source": [
        "import pandas as pd\n",
        "import string\n",
        "import warnings\n",
        "from sklearn.model_selection import train_test_split\n",
        "from sklearn.feature_extraction.text import CountVectorizer, TfidfTransformer\n",
        "from sklearn.naive_bayes import MultinomialNB\n",
        "from sklearn.pipeline import Pipeline\n",
        "from sklearn.metrics import accuracy_score, classification_report\n",
        "\n",
        "warnings.filterwarnings(\"ignore\")\n",
        "\n",
        "df = pd.read_csv(\"/content/spam.csv\", encoding=\"latin-1\")[['v1', 'v2']]\n",
        "df.columns = ['label', 'message']\n",
        "\n",
        "df['label'] = df['label'].map({'spam': 1, 'ham': 0})\n",
        "\n",
        "def clean_text(text):\n",
        "    return text.lower().translate(str.maketrans('', '', string.punctuation))\n",
        "\n",
        "df['message'] = df['message'].apply(clean_text)\n",
        "\n",
        "X_train, X_test, y_train, y_test = train_test_split(df['message'], df['label'], test_size=0.2, random_state=42)\n",
        "\n",
        "model = Pipeline([\n",
        "    ('vectorizer', CountVectorizer()),\n",
        "    ('tfidf', TfidfTransformer()),\n",
        "    ('classifier', MultinomialNB())\n",
        "])\n",
        "\n",
        "model.fit(X_train, y_train)\n",
        "\n",
        "y_pred = model.predict(X_test)\n",
        "\n",
        "print(\"Accuracy:\", accuracy_score(y_test, y_pred))\n",
        "print(\"\\nClassification Report:\\n\", classification_report(y_test, y_pred))\n",
        "\n",
        "def predict_spam(message):\n",
        "    message = clean_text(message)\n",
        "    prediction = model.predict([message])[0]\n",
        "    return \"Spam\" if prediction == 1 else \"Not spam\"\n",
        "\n",
        "print(\"\\nTest Message: 'Congratulations! You won a free prize! Claim now.'\")\n",
        "print(\"Prediction:\", predict_spam(\"Congratulations! You won a free prize! Claim now.\"))"
      ]
    }
  ]
}